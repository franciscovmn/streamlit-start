{
 "cells": [
  {
   "cell_type": "code",
   "execution_count": 22,
   "metadata": {},
   "outputs": [],
   "source": [
    "import pandas as pd\n",
    "import numpy as np"
   ]
  },
  {
   "cell_type": "code",
   "execution_count": 23,
   "metadata": {},
   "outputs": [],
   "source": [
    "dataframe = pd.read_csv('dados.csv')"
   ]
  },
  {
   "cell_type": "code",
   "execution_count": 24,
   "metadata": {},
   "outputs": [
    {
     "name": "stdout",
     "output_type": "stream",
     "text": [
      "<class 'pandas.core.frame.DataFrame'>\n",
      "RangeIndex: 48 entries, 0 to 47\n",
      "Data columns (total 7 columns):\n",
      " #   Column      Non-Null Count  Dtype  \n",
      "---  ------      --------------  -----  \n",
      " 0   Data        48 non-null     object \n",
      " 1   Hora        48 non-null     object \n",
      " 2   Loja        48 non-null     int64  \n",
      " 3   Vendedor    48 non-null     object \n",
      " 4   Cliente     48 non-null     object \n",
      " 5   Quantidade  48 non-null     int64  \n",
      " 6   Preco       48 non-null     float64\n",
      "dtypes: float64(1), int64(2), object(4)\n",
      "memory usage: 2.8+ KB\n"
     ]
    }
   ],
   "source": [
    "dataframe.info()"
   ]
  },
  {
   "cell_type": "code",
   "execution_count": 26,
   "metadata": {},
   "outputs": [
    {
     "data": {
      "text/plain": [
       "array(['2020-01-15', '2020-02-20', '2020-03-05', '2020-04-18',\n",
       "       '2020-05-21', '2020-06-28', '2020-07-02', '2020-08-05',\n",
       "       '2020-09-09', '2020-10-11', '2020-11-15', '2020-12-18',\n",
       "       '2021-01-21', '2021-02-24', '2021-03-03', '2021-04-06',\n",
       "       '2021-05-09', '2021-06-13', '2021-07-16', '2021-08-19',\n",
       "       '2021-09-22', '2021-10-25', '2021-11-28', '2021-12-31',\n",
       "       '2022-01-03', '2022-02-05', '2022-03-07', '2022-04-09',\n",
       "       '2022-05-11', '2022-06-14', '2022-07-16', '2022-08-19',\n",
       "       '2022-09-22', '2022-10-25', '2022-11-28', '2022-12-31',\n",
       "       '2023-01-03', '2023-02-05', '2023-03-07', '2023-04-09',\n",
       "       '2023-05-11', '2023-06-14', '2023-07-16', '2023-08-19',\n",
       "       '2023-09-22', '2023-10-25', '2023-11-28', '2023-12-31'],\n",
       "      dtype=object)"
      ]
     },
     "execution_count": 26,
     "metadata": {},
     "output_type": "execute_result"
    }
   ],
   "source": [
    "dataframe['Data'].unique()"
   ]
  }
 ],
 "metadata": {
  "kernelspec": {
   "display_name": ".venv",
   "language": "python",
   "name": "python3"
  },
  "language_info": {
   "codemirror_mode": {
    "name": "ipython",
    "version": 3
   },
   "file_extension": ".py",
   "mimetype": "text/x-python",
   "name": "python",
   "nbconvert_exporter": "python",
   "pygments_lexer": "ipython3",
   "version": "3.11.5"
  }
 },
 "nbformat": 4,
 "nbformat_minor": 2
}
